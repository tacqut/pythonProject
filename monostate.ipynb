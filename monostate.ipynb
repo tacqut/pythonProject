{
 "cells": [
  {
   "cell_type": "code",
   "execution_count": 64,
   "metadata": {
    "collapsed": true,
    "pycharm": {
     "name": "#%%\n"
    }
   },
   "outputs": [],
   "source": [
    "class ThreadData:\n",
    "    __shared_attrs = {\n",
    "        \"name\": \"thread_1\",\n",
    "        \"data\": {},\n",
    "        \"id\": 1\n",
    "    }\n",
    "\n",
    "    def __init__(self):\n",
    "        self.__dict__ = self.__shared_attrs\n",
    "\n",
    "    def set_dict(self, d):\n",
    "        self.__shared_attrs = d"
   ]
  },
  {
   "cell_type": "code",
   "execution_count": 65,
   "metadata": {
    "pycharm": {
     "name": "#%%\n"
    }
   },
   "outputs": [],
   "source": [
    "th1 = ThreadData()\n",
    "th2 = ThreadData()"
   ]
  },
  {
   "cell_type": "code",
   "execution_count": 67,
   "outputs": [],
   "source": [
    "th1.id = 100500\n"
   ],
   "metadata": {
    "collapsed": false,
    "pycharm": {
     "name": "#%%\n"
    }
   }
  }
 ],
 "metadata": {
  "kernelspec": {
   "display_name": "Python 3 (ipykernel)",
   "language": "python",
   "name": "python3"
  },
  "language_info": {
   "codemirror_mode": {
    "name": "ipython",
    "version": 3
   },
   "file_extension": ".py",
   "mimetype": "text/x-python",
   "name": "python",
   "nbconvert_exporter": "python",
   "pygments_lexer": "ipython3",
   "version": "3.10.8"
  }
 },
 "nbformat": 4,
 "nbformat_minor": 1
}